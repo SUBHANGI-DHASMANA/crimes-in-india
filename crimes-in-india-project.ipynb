{
 "cells": [
  {
   "cell_type": "code",
   "execution_count": 0,
   "metadata": {
    "application/vnd.databricks.v1+cell": {
     "cellMetadata": {
      "byteLimit": 2048000,
      "rowLimit": 10000
     },
     "inputWidgets": {},
     "nuid": "db7c6581-fd8f-416e-9c23-75dbb1c6c86c",
     "showTitle": false,
     "title": ""
    }
   },
   "outputs": [],
   "source": [
    "# dbutils.secrets.list(scope=\"dbscope\")"
   ]
  },
  {
   "cell_type": "code",
   "execution_count": 0,
   "metadata": {
    "application/vnd.databricks.v1+cell": {
     "cellMetadata": {
      "byteLimit": 2048000,
      "rowLimit": 10000
     },
     "inputWidgets": {},
     "nuid": "cf9f1b0d-9647-43ab-b9ba-2842b102a16c",
     "showTitle": false,
     "title": ""
    }
   },
   "outputs": [],
   "source": [
    "import json\n",
    "\n",
    "client_id_secret = dbutils.secrets.get(scope=\"dbscope\", key=\"clients-id\")\n",
    "client_secret_secret = dbutils.secrets.get(scope=\"dbscope\", key=\"clients-secret\")\n",
    "\n",
    "configs = {\n",
    "  \"fs.azure.account.auth.type\": \"OAuth\",\n",
    "  \"fs.azure.account.oauth.provider.type\": \"org.apache.hadoop.fs.azurebfs.oauth2.ClientCredsTokenProvider\",\n",
    "  \"fs.azure.account.oauth2.client.id\": client_id_secret,\n",
    "  \"fs.azure.account.oauth2.client.secret\": client_secret_secret,\n",
    "  \"fs.azure.account.oauth2.client.endpoint\": \"https://login.microsoftonline.com/61d9d578-f844-4b35-ba98-e2d55576d814/oauth2/token\"\n",
    "}\n",
    "\n",
    "dbutils.fs.mount(\n",
    "source = \"abfss://crimescontainer@crimesdata.dfs.core.windows.net\",\n",
    "mount_point = \"/mnt/crimes\",\n",
    "extra_configs = configs)"
   ]
  },
  {
   "cell_type": "code",
   "execution_count": 0,
   "metadata": {
    "application/vnd.databricks.v1+cell": {
     "cellMetadata": {
      "byteLimit": 2048000,
      "rowLimit": 10000
     },
     "inputWidgets": {},
     "nuid": "3c1e6a0b-e5a4-4a13-a822-e18fdf02ab20",
     "showTitle": false,
     "title": ""
    }
   },
   "outputs": [
    {
     "output_type": "display_data",
     "data": {
      "text/html": [
       "<style scoped>\n",
       "  .table-result-container {\n",
       "    max-height: 300px;\n",
       "    overflow: auto;\n",
       "  }\n",
       "  table, th, td {\n",
       "    border: 1px solid black;\n",
       "    border-collapse: collapse;\n",
       "  }\n",
       "  th, td {\n",
       "    padding: 5px;\n",
       "  }\n",
       "  th {\n",
       "    text-align: left;\n",
       "  }\n",
       "</style><div class='table-result-container'><table class='table-result'><thead style='background-color: white'><tr><th>path</th><th>name</th><th>size</th><th>modificationTime</th></tr></thead><tbody><tr><td>dbfs:/mnt/crimes/raw-data/</td><td>raw-data/</td><td>0</td><td>1703048744000</td></tr><tr><td>dbfs:/mnt/crimes/transformed-data/</td><td>transformed-data/</td><td>0</td><td>1703048756000</td></tr></tbody></table></div>"
      ]
     },
     "metadata": {
      "application/vnd.databricks.v1+output": {
       "addedWidgets": {},
       "aggData": [],
       "aggError": "",
       "aggOverflow": false,
       "aggSchema": [],
       "aggSeriesLimitReached": false,
       "aggType": "",
       "arguments": {},
       "columnCustomDisplayInfos": {},
       "data": [
        [
         "dbfs:/mnt/crimes/raw-data/",
         "raw-data/",
         0,
         1703048744000
        ],
        [
         "dbfs:/mnt/crimes/transformed-data/",
         "transformed-data/",
         0,
         1703048756000
        ]
       ],
       "datasetInfos": [],
       "dbfsResultPath": null,
       "isJsonSchema": true,
       "metadata": {
        "isDbfsCommandResult": false
       },
       "overflow": false,
       "plotOptions": {
        "customPlotOptions": {},
        "displayType": "table",
        "pivotAggregation": null,
        "pivotColumns": null,
        "xColumns": null,
        "yColumns": null
       },
       "removedWidgets": [],
       "schema": [
        {
         "metadata": "{}",
         "name": "path",
         "type": "\"string\""
        },
        {
         "metadata": "{}",
         "name": "name",
         "type": "\"string\""
        },
        {
         "metadata": "{}",
         "name": "size",
         "type": "\"long\""
        },
        {
         "metadata": "{}",
         "name": "modificationTime",
         "type": "\"long\""
        }
       ],
       "type": "table"
      }
     },
     "output_type": "display_data"
    }
   ],
   "source": [
    "%fs\n",
    "ls \"/mnt/crimes\""
   ]
  },
  {
   "cell_type": "code",
   "execution_count": 0,
   "metadata": {
    "application/vnd.databricks.v1+cell": {
     "cellMetadata": {
      "byteLimit": 2048000,
      "rowLimit": 10000
     },
     "inputWidgets": {},
     "nuid": "b981753f-d009-4708-b711-1c43e1f08bda",
     "showTitle": false,
     "title": ""
    }
   },
   "outputs": [
    {
     "output_type": "execute_result",
     "data": {
      "text/html": [
       "\n",
       "            <div>\n",
       "                <p><b>SparkSession - hive</b></p>\n",
       "                \n",
       "        <div>\n",
       "            <p><b>SparkContext</b></p>\n",
       "\n",
       "            <p><a href=\"/?o=3705261147588795#setting/sparkui/1220-053833-v2qwz7dd/driver-6060096598944604411\">Spark UI</a></p>\n",
       "\n",
       "            <dl>\n",
       "              <dt>Version</dt>\n",
       "                <dd><code>v3.4.1</code></dd>\n",
       "              <dt>Master</dt>\n",
       "                <dd><code>local[*, 4]</code></dd>\n",
       "              <dt>AppName</dt>\n",
       "                <dd><code>Databricks Shell</code></dd>\n",
       "            </dl>\n",
       "        </div>\n",
       "        \n",
       "            </div>\n",
       "        "
      ],
      "text/plain": [
       "<pyspark.sql.session.SparkSession at 0x7f45ff9b8df0>"
      ]
     },
     "execution_count": 3,
     "metadata": {},
     "output_type": "execute_result"
    }
   ],
   "source": [
    "spark"
   ]
  },
  {
   "cell_type": "markdown",
   "metadata": {
    "application/vnd.databricks.v1+cell": {
     "cellMetadata": {},
     "inputWidgets": {},
     "nuid": "b89d0777-0149-4ae8-bec7-5f8a39701e13",
     "showTitle": false,
     "title": ""
    }
   },
   "source": [
    "# Load Data"
   ]
  },
  {
   "cell_type": "code",
   "execution_count": 0,
   "metadata": {
    "application/vnd.databricks.v1+cell": {
     "cellMetadata": {
      "byteLimit": 2048000,
      "rowLimit": 10000
     },
     "inputWidgets": {},
     "nuid": "8d88c2e7-3509-4830-8315-ba305f372e69",
     "showTitle": false,
     "title": ""
    }
   },
   "outputs": [],
   "source": [
    "city = spark.read.format(\"csv\").option(\"header\",\"true\").option(\"inferSchema\",\"true\").load(\"/mnt/crimes/raw-data/city.csv\")\n",
    "complaints = spark.read.format(\"csv\").option(\"header\",\"true\").option(\"inferSchema\",\"true\").load(\"/mnt/crimes/raw-data/complaints.csv\")\n",
    "states = spark.read.format(\"csv\").option(\"header\",\"true\").option(\"inferSchema\",\"true\").load(\"/mnt/crimes/raw-data/states.csv\")"
   ]
  },
  {
   "cell_type": "markdown",
   "metadata": {
    "application/vnd.databricks.v1+cell": {
     "cellMetadata": {},
     "inputWidgets": {},
     "nuid": "2ad8be82-ecaf-49a1-ad16-5c60e2feea81",
     "showTitle": false,
     "title": ""
    }
   },
   "source": [
    "# Crime Rates Prediction Model"
   ]
  },
  {
   "cell_type": "code",
   "execution_count": 0,
   "metadata": {
    "application/vnd.databricks.v1+cell": {
     "cellMetadata": {
      "byteLimit": 2048000,
      "rowLimit": 10000
     },
     "inputWidgets": {},
     "nuid": "0e0533f2-32d3-4435-9cd5-47c8258a2a97",
     "showTitle": false,
     "title": ""
    }
   },
   "outputs": [
    {
     "output_type": "stream",
     "name": "stdout",
     "output_type": "stream",
     "text": [
      "+----+----------------+-----+-----+-----+----------+----------------------+-------------------+\n|S.No|            City| 2019| 2020| 2021|Population|RateofCognizableCrimes|ChargesSheetingRate|\n+----+----------------+-----+-----+-----+----------+----------------------+-------------------+\n|   1|            Agra| 6510| 6285| 5665|      17.5|                 324.5|               58.0|\n|   2|       Allahabad| 5621| 5455| 4130|      12.2|                 339.4|               68.2|\n|   3|        Amritsar| 2589| 3178| 3349|      11.8|                 282.9|               54.8|\n|   4|         Asansol| 4244| 4335| 4864|      12.4|                 391.3|               95.8|\n|   5|      Aurangabad| 5636| 6248| 7366|      11.9|                 619.5|               82.6|\n|   6|          Bhopal|15367|18329|18831|      18.8|                1000.1|               88.3|\n|   7| Chandigarh City| 2819| 2583| 2401|      10.3|                 234.0|               67.7|\n|   8|         Dhanbad| 2102| 2801| 2508|      11.9|                 209.9|               36.0|\n|   9|Durg-Bhilainagar| 5334| 5199| 5454|      10.6|                 512.6|               85.1|\n|  10|       Faridabad|11717| 9313| 9771|      14.1|                 695.4|               56.8|\n|  11|         Gwalior| 9192| 8920|10043|      11.0|                 911.3|               75.0|\n|  12|        Jabalpur| 7927| 8707|12200|      12.7|                 962.1|               92.5|\n|  13|      Jamshedpur| 2831| 2828| 2965|      13.4|                 221.8|               60.4|\n|  14|         Jodhpur| 7597| 5860| 6882|      11.4|                 604.7|               47.6|\n|  15|          Kannur| 1534| 1241| 3034|      16.4|                 184.7|               90.7|\n|  16|          Kollam| 7272| 7089| 5113|      11.1|                 460.6|               85.1|\n|  17|            Kota| 5718| 4454| 4717|      10.0|                 471.2|               52.9|\n|  18|        Ludhiana| 5230| 4808| 5706|      16.1|                 353.5|               59.2|\n|  19|         Madurai| 3653|16196| 6277|      14.6|                 429.3|               10.0|\n|  20|      Malappuram| 2086| 1883| 2016|      17.0|                 118.7|               90.7|\n+----+----------------+-----+-----+-----+----------+----------------------+-------------------+\nonly showing top 20 rows\n\n"
     ]
    }
   ],
   "source": [
    "city.show()"
   ]
  },
  {
   "cell_type": "code",
   "execution_count": 0,
   "metadata": {
    "application/vnd.databricks.v1+cell": {
     "cellMetadata": {
      "byteLimit": 2048000,
      "rowLimit": 10000
     },
     "inputWidgets": {},
     "nuid": "dd76bbfe-23ba-40ae-aae2-e47b6d1b4725",
     "showTitle": false,
     "title": ""
    }
   },
   "outputs": [],
   "source": [
    "from pyspark.sql import SparkSession\n",
    "from pyspark.ml.feature import VectorAssembler\n",
    "from pyspark.ml.regression import LinearRegression\n",
    "from pyspark.ml import Pipeline\n",
    "from pyspark.ml.evaluation import RegressionEvaluator"
   ]
  },
  {
   "cell_type": "code",
   "execution_count": 0,
   "metadata": {
    "application/vnd.databricks.v1+cell": {
     "cellMetadata": {
      "byteLimit": 2048000,
      "rowLimit": 10000
     },
     "inputWidgets": {},
     "nuid": "d5707ce7-3c13-4c55-9d3c-c753aaeb22d5",
     "showTitle": false,
     "title": ""
    }
   },
   "outputs": [],
   "source": [
    "spark = SparkSession.builder.appName(\"CrimeRatesPrediction\").getOrCreate()"
   ]
  },
  {
   "cell_type": "code",
   "execution_count": 0,
   "metadata": {
    "application/vnd.databricks.v1+cell": {
     "cellMetadata": {
      "byteLimit": 2048000,
      "rowLimit": 10000
     },
     "inputWidgets": {},
     "nuid": "00f8af03-6b25-4ed5-97f2-da24bd5a83f4",
     "showTitle": false,
     "title": ""
    }
   },
   "outputs": [],
   "source": [
    "feature_columns = [\"2019\", \"2020\", \"2021\", \"Population\", \"ChargesSheetingRate\"]\n",
    "target_column = \"RateofCognizableCrimes\""
   ]
  },
  {
   "cell_type": "code",
   "execution_count": 0,
   "metadata": {
    "application/vnd.databricks.v1+cell": {
     "cellMetadata": {
      "byteLimit": 2048000,
      "rowLimit": 10000
     },
     "inputWidgets": {},
     "nuid": "4264a42a-c6d8-4c32-9da3-952d505c5ea4",
     "showTitle": false,
     "title": ""
    }
   },
   "outputs": [],
   "source": [
    "train_data, test_data = crime_data.randomSplit([0.8, 0.2], seed=42)"
   ]
  },
  {
   "cell_type": "code",
   "execution_count": 0,
   "metadata": {
    "application/vnd.databricks.v1+cell": {
     "cellMetadata": {
      "byteLimit": 2048000,
      "rowLimit": 10000
     },
     "inputWidgets": {},
     "nuid": "08e9072c-aa45-475c-a2a5-aff134ce52a3",
     "showTitle": false,
     "title": ""
    }
   },
   "outputs": [],
   "source": [
    "lr = LinearRegression(featuresCol=\"features\", labelCol=target_column)"
   ]
  },
  {
   "cell_type": "code",
   "execution_count": 0,
   "metadata": {
    "application/vnd.databricks.v1+cell": {
     "cellMetadata": {
      "byteLimit": 2048000,
      "rowLimit": 10000
     },
     "inputWidgets": {},
     "nuid": "90d8c2e6-1088-4158-8a87-43401ec6f49a",
     "showTitle": false,
     "title": ""
    }
   },
   "outputs": [],
   "source": [
    "pipeline = Pipeline(stages=[lr])"
   ]
  },
  {
   "cell_type": "code",
   "execution_count": 0,
   "metadata": {
    "application/vnd.databricks.v1+cell": {
     "cellMetadata": {
      "byteLimit": 2048000,
      "rowLimit": 10000
     },
     "inputWidgets": {},
     "nuid": "bc607690-9bbc-4315-b75b-90e230d8131e",
     "showTitle": false,
     "title": ""
    }
   },
   "outputs": [],
   "source": [
    "model = pipeline.fit(train_data)"
   ]
  },
  {
   "cell_type": "code",
   "execution_count": 0,
   "metadata": {
    "application/vnd.databricks.v1+cell": {
     "cellMetadata": {
      "byteLimit": 2048000,
      "rowLimit": 10000
     },
     "inputWidgets": {},
     "nuid": "6ce0b017-f66b-4ff8-a2fe-28c284249b5e",
     "showTitle": false,
     "title": ""
    }
   },
   "outputs": [],
   "source": [
    "predictions = model.transform(test_data)"
   ]
  },
  {
   "cell_type": "code",
   "execution_count": 0,
   "metadata": {
    "application/vnd.databricks.v1+cell": {
     "cellMetadata": {
      "byteLimit": 2048000,
      "rowLimit": 10000
     },
     "inputWidgets": {},
     "nuid": "16853a21-9250-4409-92a9-05b9c892bd2b",
     "showTitle": false,
     "title": ""
    }
   },
   "outputs": [
    {
     "output_type": "stream",
     "name": "stdout",
     "output_type": "stream",
     "text": [
      "Mean Squared Error (MSE) on test data: 6950.631718800905\n"
     ]
    }
   ],
   "source": [
    "evaluator = RegressionEvaluator(labelCol=target_column, predictionCol=\"prediction\", metricName=\"mse\")\n",
    "mse = evaluator.evaluate(predictions)\n",
    "print(f\"Mean Squared Error (MSE) on test data: {mse}\")"
   ]
  },
  {
   "cell_type": "code",
   "execution_count": 0,
   "metadata": {
    "application/vnd.databricks.v1+cell": {
     "cellMetadata": {
      "byteLimit": 2048000,
      "rowLimit": 10000
     },
     "inputWidgets": {},
     "nuid": "2fae5ee4-0dd6-461e-b3ee-f51c6b7f9f5f",
     "showTitle": false,
     "title": ""
    }
   },
   "outputs": [],
   "source": [
    "model.save(\"crime_rates_prediction_model\")"
   ]
  },
  {
   "cell_type": "code",
   "execution_count": 0,
   "metadata": {
    "application/vnd.databricks.v1+cell": {
     "cellMetadata": {
      "byteLimit": 2048000,
      "rowLimit": 10000
     },
     "inputWidgets": {},
     "nuid": "f0667407-5b57-4765-a8e8-a666c43bb7e7",
     "showTitle": false,
     "title": ""
    }
   },
   "outputs": [],
   "source": [
    "sample_data = crime_data.limit(5)"
   ]
  },
  {
   "cell_type": "code",
   "execution_count": 0,
   "metadata": {
    "application/vnd.databricks.v1+cell": {
     "cellMetadata": {
      "byteLimit": 2048000,
      "rowLimit": 10000
     },
     "inputWidgets": {},
     "nuid": "9c3430e3-095d-453f-8884-404f2718fa26",
     "showTitle": false,
     "title": ""
    }
   },
   "outputs": [],
   "source": [
    "sample_predictions = model.transform(sample_data)"
   ]
  },
  {
   "cell_type": "code",
   "execution_count": 0,
   "metadata": {
    "application/vnd.databricks.v1+cell": {
     "cellMetadata": {
      "byteLimit": 2048000,
      "rowLimit": 10000
     },
     "inputWidgets": {},
     "nuid": "44e8bb9c-162d-4cf9-ac0e-b592fa8b0b1c",
     "showTitle": false,
     "title": ""
    }
   },
   "outputs": [
    {
     "output_type": "stream",
     "name": "stdout",
     "output_type": "stream",
     "text": [
      "+----------+--------------------+------------------+\n|      City|            features|        prediction|\n+----------+--------------------+------------------+\n|      Agra|[6510.0,6285.0,56...| 293.0083022451103|\n| Allahabad|[5621.0,5455.0,41...| 363.5281883069188|\n|  Amritsar|[2589.0,3178.0,33...| 328.5821759116189|\n|   Asansol|[4244.0,4335.0,48...|402.74243357475046|\n|Aurangabad|[5636.0,6248.0,73...| 591.2158147725447|\n+----------+--------------------+------------------+\n\n"
     ]
    }
   ],
   "source": [
    "sample_predictions.select(\"City\", \"features\", \"prediction\").show()"
   ]
  },
  {
   "cell_type": "code",
   "execution_count": 0,
   "metadata": {
    "application/vnd.databricks.v1+cell": {
     "cellMetadata": {
      "byteLimit": 2048000,
      "rowLimit": 10000
     },
     "inputWidgets": {},
     "nuid": "7f09349b-e91c-481e-8d1e-e3875ad08dfe",
     "showTitle": false,
     "title": ""
    }
   },
   "outputs": [],
   "source": [
    "import matplotlib.pyplot as plt\n",
    "import pandas as pd"
   ]
  },
  {
   "cell_type": "code",
   "execution_count": 0,
   "metadata": {
    "application/vnd.databricks.v1+cell": {
     "cellMetadata": {
      "byteLimit": 2048000,
      "rowLimit": 10000
     },
     "inputWidgets": {},
     "nuid": "39220f00-bd24-4458-9b3f-38e85902284e",
     "showTitle": false,
     "title": ""
    }
   },
   "outputs": [
    {
     "output_type": "display_data",
     "data": {
      "image/png": "[encoded data removed]",
      "text/plain": [
       "<Figure size 1200x800 with 1 Axes>"
      ]
     },
     "metadata": {},
     "output_type": "display_data"
    }
   ],
   "source": [
    "all_predictions = model.transform(test_data)\n",
    "\n",
    "all_predictions_pd = all_predictions.select(\"City\", \"RateofCognizableCrimes\", \"prediction\").toPandas()\n",
    "\n",
    "plt.figure(figsize=(12, 8))\n",
    "plt.scatter(all_predictions_pd['RateofCognizableCrimes'], all_predictions_pd['prediction'], color='blue')\n",
    "plt.plot([min(all_predictions_pd['RateofCognizableCrimes']), max(all_predictions_pd['RateofCognizableCrimes'])],\n",
    "         [min(all_predictions_pd['RateofCognizableCrimes']), max(all_predictions_pd['RateofCognizableCrimes'])],\n",
    "         linestyle='--', color='red', linewidth=2)\n",
    "plt.title('Actual vs Predicted Crime Rates')\n",
    "plt.xlabel('Actual Rate of Cognizable Crimes')\n",
    "plt.ylabel('Predicted Rate of Cognizable Crimes')\n",
    "plt.show()"
   ]
  },
  {
   "cell_type": "markdown",
   "metadata": {
    "application/vnd.databricks.v1+cell": {
     "cellMetadata": {},
     "inputWidgets": {},
     "nuid": "7cdd14d4-fc21-43a0-b522-39deae0cf4b9",
     "showTitle": false,
     "title": ""
    }
   },
   "source": [
    "# EDA on crimes complaint"
   ]
  },
  {
   "cell_type": "code",
   "execution_count": 0,
   "metadata": {
    "application/vnd.databricks.v1+cell": {
     "cellMetadata": {
      "byteLimit": 2048000,
      "rowLimit": 10000
     },
     "inputWidgets": {},
     "nuid": "09cf37df-f740-400c-aa8a-9115ad219e38",
     "showTitle": false,
     "title": ""
    }
   },
   "outputs": [
    {
     "output_type": "stream",
     "name": "stdout",
     "output_type": "stream",
     "text": [
      "+--------------------+-------------+-------+-------------+\n|    TypeofComplaints|#ofComplaints|#ofFIRs|#ofOnlineFIRS|\n+--------------------+-------------+-------+-------------+\n|     Oral Complaints|      8585351| 690094|            0|\n|Narrated to O/C /...|       930369| 621456|            0|\n|Distress call ove...|      7654982|  68638|            0|\n|  Written Complaints|      8894954|5220773|       185443|\n|        To O/C / SHO|      4709804|3496161|            0|\n|To SP/Senior Offi...|      1275123| 127955|            0|\n|     Electronic Form|       681373|  15510|       185443|\n|    Court Complaints|       111812| 105939|            0|\n|         NHRC & SHRC|        22855|    885|            0|\n| Commissions for SCs|         7348|    208|            0|\n| Commissions for STs|         2747|     84|            0|\n|National/State Co...|        36855|   1237|            0|\n|Children Welfare ...|         2332|    333|            0|\n|Complaints Initia...|      1497410|1366458|            0|\n|Any Others Writte...|       547295| 106003|            0|\n+--------------------+-------------+-------+-------------+\n\n"
     ]
    }
   ],
   "source": [
    "complaints.show()"
   ]
  },
  {
   "cell_type": "code",
   "execution_count": 0,
   "metadata": {
    "application/vnd.databricks.v1+cell": {
     "cellMetadata": {
      "byteLimit": 2048000,
      "rowLimit": 10000
     },
     "inputWidgets": {},
     "nuid": "b7ccfd7f-dcf8-4bb2-a208-4ae6e4feb595",
     "showTitle": false,
     "title": ""
    }
   },
   "outputs": [
    {
     "output_type": "stream",
     "name": "stdout",
     "output_type": "stream",
     "text": [
      "+-------+--------------------+------------------+------------------+------------------+\n|summary|    TypeofComplaints|     #ofComplaints|           #ofFIRs|     #ofOnlineFIRS|\n+-------+--------------------+------------------+------------------+------------------+\n|  count|                  15|                15|                15|                15|\n|   mean|                NULL|2330707.3333333335|          788115.6|24725.733333333334|\n| stddev|                NULL| 3355576.636240093|1533812.9571439556|  65251.0449642288|\n|    min|Any Others Writte...|              2332|                84|                 0|\n|    max|  Written Complaints|           8894954|           5220773|            185443|\n+-------+--------------------+------------------+------------------+------------------+\n\n"
     ]
    }
   ],
   "source": [
    "complaints.describe().show()"
   ]
  },
  {
   "cell_type": "code",
   "execution_count": 0,
   "metadata": {
    "application/vnd.databricks.v1+cell": {
     "cellMetadata": {
      "byteLimit": 2048000,
      "rowLimit": 10000
     },
     "inputWidgets": {},
     "nuid": "c144c6e8-bda6-4b07-8fa2-aa8555f7897d",
     "showTitle": false,
     "title": ""
    }
   },
   "outputs": [],
   "source": [
    "import seaborn as sns"
   ]
  },
  {
   "cell_type": "code",
   "execution_count": 0,
   "metadata": {
    "application/vnd.databricks.v1+cell": {
     "cellMetadata": {
      "byteLimit": 2048000,
      "rowLimit": 10000
     },
     "inputWidgets": {},
     "nuid": "8e08c2c3-cd1e-44d5-9942-0ec0b2d5bacf",
     "showTitle": false,
     "title": ""
    }
   },
   "outputs": [],
   "source": [
    "numeric_columns = [\"#ofComplaints\", \"#ofFIRs\", \"#ofOnlineFIRS\"]"
   ]
  },
  {
   "cell_type": "code",
   "execution_count": 0,
   "metadata": {
    "application/vnd.databricks.v1+cell": {
     "cellMetadata": {
      "byteLimit": 2048000,
      "rowLimit": 10000
     },
     "inputWidgets": {},
     "nuid": "180936e4-862e-4c39-871e-6ab81340bec2",
     "showTitle": false,
     "title": ""
    }
   },
   "outputs": [
    {
     "output_type": "display_data",
     "data": {
      "image/png": "[encoded data removed]",
      "text/plain": [
       "<Figure size 800x500 with 1 Axes>"
      ]
     },
     "metadata": {},
     "output_type": "display_data"
    },
    {
     "output_type": "display_data",
     "data": {
      "image/png": "[encoded data removed]",
      "text/plain": [
       "<Figure size 800x500 with 1 Axes>"
      ]
     },
     "metadata": {},
     "output_type": "display_data"
    },
    {
     "output_type": "display_data",
     "data": {
      "image/png": "[encoded data removed]",
      "text/plain": [
       "<Figure size 800x500 with 1 Axes>"
      ]
     },
     "metadata": {},
     "output_type": "display_data"
    }
   ],
   "source": [
    "for column in numeric_columns:\n",
    "    plt.figure(figsize=(8, 5))\n",
    "    sns.histplot(complaints.select(column).toPandas(), bins=30, kde=True)\n",
    "    plt.title(f'Distribution of {column}')\n",
    "    plt.show()"
   ]
  },
  {
   "cell_type": "code",
   "execution_count": 0,
   "metadata": {
    "application/vnd.databricks.v1+cell": {
     "cellMetadata": {
      "byteLimit": 2048000,
      "rowLimit": 10000
     },
     "inputWidgets": {},
     "nuid": "4c8a18d5-a7d9-4d36-8e73-dd8c78755f3b",
     "showTitle": false,
     "title": ""
    }
   },
   "outputs": [
    {
     "output_type": "display_data",
     "data": {
      "image/png": "[encoded data removed]",
      "text/plain": [
       "<Figure size 800x500 with 1 Axes>"
      ]
     },
     "metadata": {},
     "output_type": "display_data"
    },
    {
     "output_type": "display_data",
     "data": {
      "image/png": "[encoded data removed]",
      "text/plain": [
       "<Figure size 800x500 with 1 Axes>"
      ]
     },
     "metadata": {},
     "output_type": "display_data"
    },
    {
     "output_type": "display_data",
     "data": {
      "image/png": "[encoded data removed]",
      "text/plain": [
       "<Figure size 800x500 with 1 Axes>"
      ]
     },
     "metadata": {},
     "output_type": "display_data"
    }
   ],
   "source": [
    "for column in numeric_columns:\n",
    "    plt.figure(figsize=(8, 5))\n",
    "    sns.boxplot(x=complaints.select(column).toPandas()[column])\n",
    "    plt.title(f'Boxplot of {column}')\n",
    "    plt.show()"
   ]
  },
  {
   "cell_type": "markdown",
   "metadata": {
    "application/vnd.databricks.v1+cell": {
     "cellMetadata": {},
     "inputWidgets": {},
     "nuid": "bf1d1b8c-5ee1-4e02-89ea-ad4020c6ca70",
     "showTitle": false,
     "title": ""
    }
   },
   "source": [
    "# EDA on states"
   ]
  },
  {
   "cell_type": "code",
   "execution_count": 0,
   "metadata": {
    "application/vnd.databricks.v1+cell": {
     "cellMetadata": {
      "byteLimit": 2048000,
      "rowLimit": 10000
     },
     "inputWidgets": {},
     "nuid": "4bc40851-b6d7-4ac0-a89c-7699e83c827b",
     "showTitle": false,
     "title": ""
    }
   },
   "outputs": [
    {
     "output_type": "stream",
     "name": "stdout",
     "output_type": "stream",
     "text": [
      "+----+--------+-----------------+------+------+------+-------------+----------------------+-------------------+\n|S.No|State/UT|             Name|  2019|  2020|  2021|midPopulation|RateofCognizableCrimes|ChargesSheetingRate|\n+----+--------+-----------------+------+------+------+-------------+----------------------+-------------------+\n|   1|   State|   Andhra Pradesh|119229|188997|179611|        528.5|                 339.9|               92.9|\n|   2|   State|Arunachal Pradesh|  2590|  2244|  2626|         15.4|                 170.9|               51.7|\n|   3|   State|            Assam|123512|111558|119883|        351.6|                 341.0|               38.2|\n|   4|   State|            Bihar|197935|194698|186006|       1237.0|                 150.4|               70.5|\n|   5|   State|     Chhattisgarh| 61256| 65216| 70519|        296.1|                 238.2|               80.2|\n|   6|   State|              Goa|  2465|  3393|  2099|         15.6|                 134.5|               73.5|\n|   7|   State|          Gujarat|139503|381849|273056|        700.8|                 389.7|               95.9|\n|   8|   State|          Haryana|111323|103276|112720|        296.0|                 380.8|               49.1|\n|   9|   State| Himachal Pradesh| 14480| 14803| 13041|         74.1|                 176.1|               83.9|\n|  10|   State|        Jharkhand| 50048| 51033| 47684|        386.4|                 123.4|               67.5|\n|  11|   State|        Karnataka|120165|106350|115728|        669.9|                 172.8|               78.9|\n|  12|   State|           Kerala|175810|149099|142643|        355.4|                 401.4|               91.8|\n|  13|   State|   Madhya Pradesh|246470|283881|304066|        848.6|                 358.3|               87.3|\n|  14|   State|      Maharashtra|341084|394017|367218|       1247.6|                 294.3|               76.4|\n|  15|   State|          Manipur|  2830|  2349|  2484|         31.7|                  78.3|               14.8|\n|  16|   State|        Meghalaya|  3125|  2871|  2672|         33.0|                  81.1|               32.2|\n|  17|   State|          Mizoram|  2379|  1787|  2467|         12.2|                 202.4|               69.0|\n|  18|   State|         Nagaland|  1117|  1022|  1033|         22.0|                  47.0|               62.7|\n|  19|   State|           Odisha| 96033|108533|124956|        457.9|                 272.9|               75.5|\n|  20|   State|           Punjab| 44697| 49870| 46454|        304.0|                 152.8|               68.2|\n+----+--------+-----------------+------+------+------+-------------+----------------------+-------------------+\nonly showing top 20 rows\n\n"
     ]
    }
   ],
   "source": [
    "states.show()"
   ]
  },
  {
   "cell_type": "markdown",
   "metadata": {
    "application/vnd.databricks.v1+cell": {
     "cellMetadata": {},
     "inputWidgets": {},
     "nuid": "a421ba98-2136-42b7-9a5d-f2e5f5c3ae89",
     "showTitle": false,
     "title": ""
    }
   },
   "source": [
    "### Total crimes"
   ]
  },
  {
   "cell_type": "code",
   "execution_count": 0,
   "metadata": {
    "application/vnd.databricks.v1+cell": {
     "cellMetadata": {
      "byteLimit": 2048000,
      "rowLimit": 10000
     },
     "inputWidgets": {},
     "nuid": "fcec2c7f-66af-4a29-adbd-885e50b7ca16",
     "showTitle": false,
     "title": ""
    }
   },
   "outputs": [],
   "source": [
    "from pyspark.sql import SparkSession\n",
    "from pyspark.sql.functions import sum"
   ]
  },
  {
   "cell_type": "code",
   "execution_count": 0,
   "metadata": {
    "application/vnd.databricks.v1+cell": {
     "cellMetadata": {
      "byteLimit": 2048000,
      "rowLimit": 10000
     },
     "inputWidgets": {},
     "nuid": "e364584f-8249-494b-b55b-f5d4aecc71bc",
     "showTitle": false,
     "title": ""
    }
   },
   "outputs": [],
   "source": [
    "spark = SparkSession.builder.appName(\"CrimesSum\").getOrCreate()"
   ]
  },
  {
   "cell_type": "code",
   "execution_count": 0,
   "metadata": {
    "application/vnd.databricks.v1+cell": {
     "cellMetadata": {
      "byteLimit": 2048000,
      "rowLimit": 10000
     },
     "inputWidgets": {},
     "nuid": "5bfb6220-97e6-407f-9055-e6377e4ee62e",
     "showTitle": false,
     "title": ""
    }
   },
   "outputs": [],
   "source": [
    "crimes_2019 = states.agg(sum(\"2019\")).collect()[0][0]\n",
    "crimes_2020 = states.agg(sum(\"2020\")).collect()[0][0]\n",
    "crimes_2021 = states.agg(sum(\"2021\")).collect()[0][0]"
   ]
  },
  {
   "cell_type": "code",
   "execution_count": 0,
   "metadata": {
    "application/vnd.databricks.v1+cell": {
     "cellMetadata": {
      "byteLimit": 2048000,
      "rowLimit": 10000
     },
     "inputWidgets": {},
     "nuid": "07c2f523-1d96-4af6-aead-7acef067f6fe",
     "showTitle": false,
     "title": ""
    }
   },
   "outputs": [
    {
     "output_type": "stream",
     "name": "stdout",
     "output_type": "stream",
     "text": [
      "Total crimes in India:  11143313.0\n"
     ]
    }
   ],
   "source": [
    "total_crimes = crimes_2019+crimes_2020+crimes_2021\n",
    "print(\"Total crimes in India: \", total_crimes)"
   ]
  },
  {
   "cell_type": "markdown",
   "metadata": {
    "application/vnd.databricks.v1+cell": {
     "cellMetadata": {},
     "inputWidgets": {},
     "nuid": "752fb222-5785-4855-871c-df2e23636a7e",
     "showTitle": false,
     "title": ""
    }
   },
   "source": [
    "### Total crime on basis of year"
   ]
  },
  {
   "cell_type": "code",
   "execution_count": 0,
   "metadata": {
    "application/vnd.databricks.v1+cell": {
     "cellMetadata": {
      "byteLimit": 2048000,
      "rowLimit": 10000
     },
     "inputWidgets": {},
     "nuid": "a0d6f848-5f38-4b63-a63f-1055e111ce4b",
     "showTitle": false,
     "title": ""
    }
   },
   "outputs": [],
   "source": [
    "spark = SparkSession.builder.appName(\"CrimesPlot\").getOrCreate()"
   ]
  },
  {
   "cell_type": "code",
   "execution_count": 0,
   "metadata": {
    "application/vnd.databricks.v1+cell": {
     "cellMetadata": {
      "byteLimit": 2048000,
      "rowLimit": 10000
     },
     "inputWidgets": {},
     "nuid": "1aa16efc-3a69-4816-b71f-473c17b57521",
     "showTitle": false,
     "title": ""
    }
   },
   "outputs": [],
   "source": [
    "crimes_totals = states.groupBy().agg(sum(\"2019\").alias(\"2019\"), sum(\"2020\").alias(\"2020\"), sum(\"2021\").alias(\"2021\")).collect()[0]"
   ]
  },
  {
   "cell_type": "code",
   "execution_count": 0,
   "metadata": {
    "application/vnd.databricks.v1+cell": {
     "cellMetadata": {
      "byteLimit": 2048000,
      "rowLimit": 10000
     },
     "inputWidgets": {},
     "nuid": "7aad12aa-298c-417b-8df0-ab4b7cf831eb",
     "showTitle": false,
     "title": ""
    }
   },
   "outputs": [],
   "source": [
    "crimes_df = pd.Series([crimes_totals['2019'], crimes_totals['2020'], crimes_totals['2021']], index=['2019', '2020', '2021'])"
   ]
  },
  {
   "cell_type": "code",
   "execution_count": 0,
   "metadata": {
    "application/vnd.databricks.v1+cell": {
     "cellMetadata": {
      "byteLimit": 2048000,
      "rowLimit": 10000
     },
     "inputWidgets": {},
     "nuid": "eeaf39f1-71a9-44ea-bbe9-103fadcaf385",
     "showTitle": false,
     "title": ""
    }
   },
   "outputs": [
    {
     "output_type": "display_data",
     "data": {
      "image/png": "[encoded data removed]",
      "text/plain": [
       "<Figure size 640x480 with 1 Axes>"
      ]
     },
     "metadata": {},
     "output_type": "display_data"
    }
   ],
   "source": [
    "crimes_df.plot(kind='bar', color='skyblue')\n",
    "\n",
    "plt.xlabel(\"Year\", color=\"red\")\n",
    "plt.ylabel(\"Cases (in millions)\", color=\"red\")\n",
    "plt.title(\"Crimes each year (State/UT)\")\n",
    "\n",
    "plt.show()"
   ]
  },
  {
   "cell_type": "code",
   "execution_count": 0,
   "metadata": {
    "application/vnd.databricks.v1+cell": {
     "cellMetadata": {},
     "inputWidgets": {},
     "nuid": "0a11cc73-fe8b-4656-b609-2a6b43f226b4",
     "showTitle": false,
     "title": ""
    }
   },
   "outputs": [],
   "source": []
  }
 ],
 "metadata": {
  "application/vnd.databricks.v1+notebook": {
   "dashboards": [],
   "language": "python",
   "notebookMetadata": {
    "mostRecentlyExecutedCommandWithImplicitDF": {
     "commandId": 3989542838001433,
     "dataframes": [
      "_sqldf"
     ]
    },
    "pythonIndentUnit": 4
   },
   "notebookName": "Crimes-project",
   "widgets": {}
  }
 },
 "nbformat": 4,
 "nbformat_minor": 0
}
